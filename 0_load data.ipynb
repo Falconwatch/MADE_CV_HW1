{
 "cells": [
  {
   "cell_type": "code",
   "execution_count": 1,
   "metadata": {},
   "outputs": [
    {
     "name": "stdout",
     "output_type": "stream",
     "text": [
      "--2020-04-23 20:48:37--  https://docs.google.com/uc?export=download&confirm=bIRc&id=1XBOW8M8zHboa7g3W28o_TRcFGNWmWFhb\n",
      "Resolving docs.google.com (docs.google.com)... 172.217.22.14, 2a00:1450:4001:81c::200e\n",
      "Connecting to docs.google.com (docs.google.com)|172.217.22.14|:443... connected.\n",
      "HTTP request sent, awaiting response... 302 Moved Temporarily\n",
      "Location: https://doc-14-cc-docs.googleusercontent.com/docs/securesc/u14iganbd4upek960f0amcpc961mq7ue/7j8khvahejrb7phe294vnhpa8h8bd9pe/1587674850000/05012376415031776039/01781089017476412511Z/1XBOW8M8zHboa7g3W28o_TRcFGNWmWFhb?e=download [following]\n",
      "--2020-04-23 20:48:37--  https://doc-14-cc-docs.googleusercontent.com/docs/securesc/u14iganbd4upek960f0amcpc961mq7ue/7j8khvahejrb7phe294vnhpa8h8bd9pe/1587674850000/05012376415031776039/01781089017476412511Z/1XBOW8M8zHboa7g3W28o_TRcFGNWmWFhb?e=download\n",
      "Resolving doc-14-cc-docs.googleusercontent.com (doc-14-cc-docs.googleusercontent.com)... 172.217.23.129, 2a00:1450:4001:81a::2001\n",
      "Connecting to doc-14-cc-docs.googleusercontent.com (doc-14-cc-docs.googleusercontent.com)|172.217.23.129|:443... connected.\n",
      "HTTP request sent, awaiting response... 302 Found\n",
      "Location: https://docs.google.com/nonceSigner?nonce=sr8idndb2oq4k&continue=https://doc-14-cc-docs.googleusercontent.com/docs/securesc/u14iganbd4upek960f0amcpc961mq7ue/7j8khvahejrb7phe294vnhpa8h8bd9pe/1587674850000/05012376415031776039/01781089017476412511Z/1XBOW8M8zHboa7g3W28o_TRcFGNWmWFhb?e%3Ddownload&hash=hpcmt7rbdbib6j4fip7llnl28ss2bqlc [following]\n",
      "--2020-04-23 20:48:38--  https://docs.google.com/nonceSigner?nonce=sr8idndb2oq4k&continue=https://doc-14-cc-docs.googleusercontent.com/docs/securesc/u14iganbd4upek960f0amcpc961mq7ue/7j8khvahejrb7phe294vnhpa8h8bd9pe/1587674850000/05012376415031776039/01781089017476412511Z/1XBOW8M8zHboa7g3W28o_TRcFGNWmWFhb?e%3Ddownload&hash=hpcmt7rbdbib6j4fip7llnl28ss2bqlc\n",
      "Connecting to docs.google.com (docs.google.com)|172.217.22.14|:443... connected.\n",
      "HTTP request sent, awaiting response... 302 Found\n",
      "Location: https://doc-14-cc-docs.googleusercontent.com/docs/securesc/u14iganbd4upek960f0amcpc961mq7ue/7j8khvahejrb7phe294vnhpa8h8bd9pe/1587674850000/05012376415031776039/01781089017476412511Z/1XBOW8M8zHboa7g3W28o_TRcFGNWmWFhb?e=download&nonce=sr8idndb2oq4k&user=01781089017476412511Z&hash=k71u6tm2t6h88j5jaip8se5jtkglpgih [following]\n",
      "--2020-04-23 20:48:38--  https://doc-14-cc-docs.googleusercontent.com/docs/securesc/u14iganbd4upek960f0amcpc961mq7ue/7j8khvahejrb7phe294vnhpa8h8bd9pe/1587674850000/05012376415031776039/01781089017476412511Z/1XBOW8M8zHboa7g3W28o_TRcFGNWmWFhb?e=download&nonce=sr8idndb2oq4k&user=01781089017476412511Z&hash=k71u6tm2t6h88j5jaip8se5jtkglpgih\n",
      "Connecting to doc-14-cc-docs.googleusercontent.com (doc-14-cc-docs.googleusercontent.com)|172.217.23.129|:443... connected.\n",
      "HTTP request sent, awaiting response... 200 OK\n",
      "Length: unspecified [application/zip]\n",
      "Saving to: ‘made_cv_hw1_data.zip’\n",
      "\n",
      "made_cv_hw1_data.zi     [               <=>  ]  12.59G   131MB/s    in 2m 2s   \n",
      "\n",
      "2020-04-23 20:50:40 (106 MB/s) - ‘made_cv_hw1_data.zip’ saved [13518086889]\n",
      "\n"
     ]
    }
   ],
   "source": [
    "!wget --load-cookies /tmp/cookies.txt \"https://docs.google.com/uc?export=download&confirm=$(wget --quiet --save-cookies /tmp/cookies.txt --keep-session-cookies --no-check-certificate 'https://docs.google.com/uc?export=download&id=1XBOW8M8zHboa7g3W28o_TRcFGNWmWFhb' -O- | sed -rn 's/.*confirm=([0-9A-Za-z_]+).*/\\1\\n/p')&id=1XBOW8M8zHboa7g3W28o_TRcFGNWmWFhb\" -O made_cv_hw1_data.zip && rm -rf /tmp/cookies.txt"
   ]
  },
  {
   "cell_type": "code",
   "execution_count": 2,
   "metadata": {},
   "outputs": [],
   "source": [
    "import zipfile\n",
    "with zipfile.ZipFile('made_cv_hw1_data.zip', 'r') as zip_ref:\n",
    "    zip_ref.extractall()"
   ]
  }
 ],
 "metadata": {
  "kernelspec": {
   "display_name": "Python 3",
   "language": "python",
   "name": "python3"
  },
  "language_info": {
   "codemirror_mode": {
    "name": "ipython",
    "version": 3
   },
   "file_extension": ".py",
   "mimetype": "text/x-python",
   "name": "python",
   "nbconvert_exporter": "python",
   "pygments_lexer": "ipython3",
   "version": "3.7.6"
  }
 },
 "nbformat": 4,
 "nbformat_minor": 4
}
